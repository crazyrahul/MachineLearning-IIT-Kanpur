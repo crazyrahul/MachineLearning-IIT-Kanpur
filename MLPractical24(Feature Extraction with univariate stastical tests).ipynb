{
 "cells": [
  {
   "cell_type": "code",
   "execution_count": 2,
   "metadata": {},
   "outputs": [
    {
     "name": "stdout",
     "output_type": "stream",
     "text": [
      "[ 111.52  1411.887   17.605   53.108 2175.565  127.669    5.393  181.304]\n",
      "\n",
      "\n",
      "\n",
      "[[148.    0.   33.6  50. ]\n",
      " [ 85.    0.   26.6  31. ]\n",
      " [183.    0.   23.3  32. ]\n",
      " [ 89.   94.   28.1  21. ]\n",
      " [137.  168.   43.1  33. ]\n",
      " [116.    0.   25.6  30. ]\n",
      " [ 78.   88.   31.   26. ]\n",
      " [115.    0.   35.3  29. ]\n",
      " [197.  543.   30.5  53. ]\n",
      " [125.    0.    0.   54. ]\n",
      " [110.    0.   37.6  30. ]\n",
      " [168.    0.   38.   34. ]\n",
      " [139.    0.   27.1  57. ]\n",
      " [189.  846.   30.1  59. ]\n",
      " [166.  175.   25.8  51. ]\n",
      " [100.    0.   30.   32. ]\n",
      " [118.  230.   45.8  31. ]\n",
      " [107.    0.   29.6  31. ]\n",
      " [103.   83.   43.3  33. ]\n",
      " [115.   96.   34.6  32. ]]\n"
     ]
    }
   ],
   "source": [
    "#Feature Extraction with univariate stastical tests\n",
    "#(chi-squired for classfication)\n",
    "#chi2=(Observed Frequency-Expected Frequency) ** 2 / Expected Frequency\n",
    "import pandas as pd\n",
    "from numpy import set_printoptions\n",
    "\n",
    "from sklearn.feature_selection import SelectKBest\n",
    "from sklearn.feature_selection import chi2\n",
    "import warnings\n",
    "warnings.filterwarnings(\"ignore\")\n",
    "\n",
    "#load data\n",
    "filename='/home/diwakar/Downloads/IITK ML Data/indians-diabetes.data.csv'\n",
    "hnames=['preg','plas','pres','skin','test','mass','pedi','age','class']\n",
    "dataframe=pd.read_csv(filename,names=hnames)\n",
    "array = dataframe.values\n",
    "#seprate array into input and output components\n",
    "X= array[: ,0:8] #[row ,cols]\n",
    "Y= array[: ,8]\n",
    "#feture extraction\n",
    "test=SelectKBest(score_func=chi2,k=4)\n",
    "fit=test.fit(X,Y)\n",
    "#summarize scores\n",
    "set_printoptions(precision=3)\n",
    "print(fit.scores_)\n",
    "features=fit.transform(X)\n",
    "#summarize selected features\n",
    "print(\"\\n\\n\")\n",
    "print(features[0:20,:])"
   ]
  },
  {
   "cell_type": "code",
   "execution_count": 3,
   "metadata": {},
   "outputs": [
    {
     "name": "stdout",
     "output_type": "stream",
     "text": [
      "Number of Feature:  4\n",
      "Selected Features:  [ True  True False False False  True  True False]\n",
      "Feature Ranking:  [1 1 2 4 5 1 1 3]\n",
      "\n",
      "\n",
      " [[6.000e+00 1.480e+02 3.360e+01 6.270e-01]\n",
      " [1.000e+00 8.500e+01 2.660e+01 3.510e-01]\n",
      " [8.000e+00 1.830e+02 2.330e+01 6.720e-01]\n",
      " [1.000e+00 8.900e+01 2.810e+01 1.670e-01]\n",
      " [0.000e+00 1.370e+02 4.310e+01 2.288e+00]\n",
      " [5.000e+00 1.160e+02 2.560e+01 2.010e-01]\n",
      " [3.000e+00 7.800e+01 3.100e+01 2.480e-01]\n",
      " [1.000e+01 1.150e+02 3.530e+01 1.340e-01]\n",
      " [2.000e+00 1.970e+02 3.050e+01 1.580e-01]\n",
      " [8.000e+00 1.250e+02 0.000e+00 2.320e-01]\n",
      " [4.000e+00 1.100e+02 3.760e+01 1.910e-01]\n",
      " [1.000e+01 1.680e+02 3.800e+01 5.370e-01]\n",
      " [1.000e+01 1.390e+02 2.710e+01 1.441e+00]\n",
      " [1.000e+00 1.890e+02 3.010e+01 3.980e-01]\n",
      " [5.000e+00 1.660e+02 2.580e+01 5.870e-01]\n",
      " [7.000e+00 1.000e+02 3.000e+01 4.840e-01]\n",
      " [0.000e+00 1.180e+02 4.580e+01 5.510e-01]\n",
      " [7.000e+00 1.070e+02 2.960e+01 2.540e-01]\n",
      " [1.000e+00 1.030e+02 4.330e+01 1.830e-01]\n",
      " [1.000e+00 1.150e+02 3.460e+01 5.290e-01]\n",
      " [3.000e+00 1.260e+02 3.930e+01 7.040e-01]\n",
      " [8.000e+00 9.900e+01 3.540e+01 3.880e-01]\n",
      " [7.000e+00 1.960e+02 3.980e+01 4.510e-01]\n",
      " [9.000e+00 1.190e+02 2.900e+01 2.630e-01]\n",
      " [1.100e+01 1.430e+02 3.660e+01 2.540e-01]\n",
      " [1.000e+01 1.250e+02 3.110e+01 2.050e-01]\n",
      " [7.000e+00 1.470e+02 3.940e+01 2.570e-01]\n",
      " [1.000e+00 9.700e+01 2.320e+01 4.870e-01]\n",
      " [1.300e+01 1.450e+02 2.220e+01 2.450e-01]\n",
      " [5.000e+00 1.170e+02 3.410e+01 3.370e-01]]\n"
     ]
    }
   ],
   "source": [
    "#Feature Extraction with Recursive Feature Elimination(RFE)\n",
    "import pandas as pd\n",
    "from numpy import set_printoptions\n",
    "\n",
    "from sklearn.feature_selection import RFE\n",
    "from sklearn.linear_model import LogisticRegression\n",
    "import warnings\n",
    "warnings.filterwarnings(\"ignore\")\n",
    "\n",
    "#load data\n",
    "filename='/home/diwakar/Downloads/IITK ML Data/indians-diabetes.data.csv'\n",
    "hnames=['preg','plas','pres','skin','test','mass','pedi','age','class']\n",
    "dataframe=pd.read_csv(filename,names=hnames)\n",
    "array = dataframe.values\n",
    "#seprate array into input and output components\n",
    "X= array[: ,0:8] #[row ,cols]\n",
    "Y= array[: ,8]\n",
    "#feture extraction\n",
    "model=LogisticRegression()\n",
    "rfe=RFE(model,4)\n",
    "fit=rfe.fit(X,Y)\n",
    "result=fit.transform(X)\n",
    "print(\"Number of Feature: \",fit.n_features_)\n",
    "print(\"Selected Features: \",fit.support_)\n",
    "print(\"Feature Ranking: \",fit.ranking_)\n",
    "print(\"\\n\\n\",result[:30,:])    \n"
   ]
  },
  {
   "cell_type": "code",
   "execution_count": null,
   "metadata": {},
   "outputs": [],
   "source": []
  }
 ],
 "metadata": {
  "kernelspec": {
   "display_name": "Python 3",
   "language": "python",
   "name": "python3"
  },
  "language_info": {
   "codemirror_mode": {
    "name": "ipython",
    "version": 3
   },
   "file_extension": ".py",
   "mimetype": "text/x-python",
   "name": "python",
   "nbconvert_exporter": "python",
   "pygments_lexer": "ipython3",
   "version": "3.7.4"
  }
 },
 "nbformat": 4,
 "nbformat_minor": 2
}
