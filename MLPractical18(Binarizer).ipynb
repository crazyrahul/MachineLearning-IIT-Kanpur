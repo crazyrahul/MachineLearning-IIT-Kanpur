{
 "cells": [
  {
   "cell_type": "code",
   "execution_count": 3,
   "metadata": {},
   "outputs": [
    {
     "name": "stdout",
     "output_type": "stream",
     "text": [
      "[[  6.   148.    72.   ...   0.63  50.     1.  ]\n",
      " [  1.    85.    66.   ...   0.35  31.     0.  ]\n",
      " [  8.   183.    64.   ...   0.67  32.     1.  ]\n",
      " ...\n",
      " [  5.   121.    72.   ...   0.24  30.     0.  ]\n",
      " [  1.   126.    60.   ...   0.35  47.     1.  ]\n",
      " [  1.    93.    70.   ...   0.32  23.     0.  ]]\n",
      "[[1. 1. 1. 1. 0. 1. 0. 1.]\n",
      " [0. 1. 1. 1. 0. 1. 0. 1.]\n",
      " [1. 1. 1. 0. 0. 1. 0. 1.]\n",
      " [0. 1. 1. 1. 1. 1. 0. 1.]\n",
      " [0. 1. 1. 1. 1. 1. 0. 1.]\n",
      " [0. 1. 1. 0. 0. 1. 0. 1.]\n",
      " [0. 1. 1. 1. 1. 1. 0. 1.]\n",
      " [1. 1. 0. 0. 0. 1. 0. 1.]\n",
      " [0. 1. 1. 1. 1. 1. 0. 1.]\n",
      " [1. 1. 1. 0. 0. 0. 0. 1.]\n",
      " [0. 1. 1. 0. 0. 1. 0. 1.]\n",
      " [1. 1. 1. 0. 0. 1. 0. 1.]\n",
      " [1. 1. 1. 0. 0. 1. 0. 1.]\n",
      " [0. 1. 1. 1. 1. 1. 0. 1.]\n",
      " [0. 1. 1. 1. 1. 1. 0. 1.]\n",
      " [1. 1. 0. 0. 0. 1. 0. 1.]\n",
      " [0. 1. 1. 1. 1. 1. 0. 1.]\n",
      " [1. 1. 1. 0. 0. 1. 0. 1.]\n",
      " [0. 1. 1. 1. 1. 1. 0. 1.]\n",
      " [0. 1. 1. 1. 1. 1. 0. 1.]\n",
      " [0. 1. 1. 1. 1. 1. 0. 1.]\n",
      " [1. 1. 1. 0. 0. 1. 0. 1.]\n",
      " [1. 1. 1. 0. 0. 1. 0. 1.]\n",
      " [1. 1. 1. 1. 0. 1. 0. 1.]\n",
      " [1. 1. 1. 1. 1. 1. 0. 1.]\n",
      " [1. 1. 1. 1. 1. 1. 0. 1.]\n",
      " [1. 1. 1. 0. 0. 1. 0. 1.]\n",
      " [0. 1. 1. 1. 1. 1. 0. 1.]\n",
      " [1. 1. 1. 1. 1. 1. 0. 1.]\n",
      " [0. 1. 1. 0. 0. 1. 0. 1.]]\n"
     ]
    }
   ],
   "source": [
    "#Binarization\n",
    "from sklearn.preprocessing import Binarizer\n",
    "from pandas import read_csv\n",
    "from numpy import set_printoptions\n",
    "filename='/home/diwakar/Downloads/IITK ML Data/indians-diabetes.data.csv'\n",
    "hnames=['preg','plas','pres','skin','test','mass','pedi','age','class']\n",
    "dataframe=read_csv(filename,names=hnames)\n",
    "array = dataframe.values\n",
    "print(array)\n",
    "#seprate array into input and output components\n",
    "X= array[: ,0:8] #[row ,cols]\n",
    "Y= array[: ,8]\n",
    "binarizer=Binarizer(threshold=5)\n",
    "binaryX=binarizer.fit_transform(X)\n",
    "#summarize transformed data\n",
    "print(binaryX[0:30, :])"
   ]
  },
  {
   "cell_type": "code",
   "execution_count": null,
   "metadata": {},
   "outputs": [],
   "source": []
  }
 ],
 "metadata": {
  "kernelspec": {
   "display_name": "Python 3",
   "language": "python",
   "name": "python3"
  },
  "language_info": {
   "codemirror_mode": {
    "name": "ipython",
    "version": 3
   },
   "file_extension": ".py",
   "mimetype": "text/x-python",
   "name": "python",
   "nbconvert_exporter": "python",
   "pygments_lexer": "ipython3",
   "version": "3.7.4"
  }
 },
 "nbformat": 4,
 "nbformat_minor": 2
}
