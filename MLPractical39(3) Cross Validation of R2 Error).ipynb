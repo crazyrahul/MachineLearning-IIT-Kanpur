{
 "cells": [
  {
   "cell_type": "code",
   "execution_count": 1,
   "metadata": {},
   "outputs": [
    {
     "name": "stdout",
     "output_type": "stream",
     "text": [
      "R^2 = 0.203(0.595)\n"
     ]
    }
   ],
   "source": [
    "# B. 3) Cross Validation of R2 Error\n",
    "# It is indicate closness between points\n",
    "import pandas as pd\n",
    "from sklearn.model_selection import KFold\n",
    "from sklearn.model_selection import cross_val_score\n",
    "from sklearn.linear_model import LinearRegression\n",
    "import warnings\n",
    "warnings.filterwarnings(\"ignore\")\n",
    "\n",
    "#load data\n",
    "filename='/home/diwakar/Downloads/IITK ML Data/housing.csv'\n",
    "hnames=['CRIM','ZN','INDUS','CHAS','NOX','RM','AGE','DIS','RAD','TAX','PTRATIO','B','LSTAT','MEDV']\n",
    "dataframe=pd.read_csv(filename,names=hnames)\n",
    "array = dataframe.values\n",
    "# print(dataframe)\n",
    "#seprate array into input and output components\n",
    "X= array[: ,0:13] #[row ,cols]\n",
    "Y= array[: ,13]\n",
    "\n",
    "model=LinearRegression()\n",
    "num_folds = 10\n",
    "kfold=KFold(n_splits=num_folds)\n",
    "\n",
    "scoringMethod='r2'   \n",
    "results=cross_val_score(model,X,Y, cv=kfold, scoring=scoringMethod)\n",
    "\n",
    "print(\"R^2 = %.3f(%.3f)\"%(results.mean(),results.std()))\n"
   ]
  },
  {
   "cell_type": "code",
   "execution_count": null,
   "metadata": {},
   "outputs": [],
   "source": []
  }
 ],
 "metadata": {
  "kernelspec": {
   "display_name": "Python 3",
   "language": "python",
   "name": "python3"
  },
  "language_info": {
   "codemirror_mode": {
    "name": "ipython",
    "version": 3
   },
   "file_extension": ".py",
   "mimetype": "text/x-python",
   "name": "python",
   "nbconvert_exporter": "python",
   "pygments_lexer": "ipython3",
   "version": "3.7.4"
  }
 },
 "nbformat": 4,
 "nbformat_minor": 2
}
