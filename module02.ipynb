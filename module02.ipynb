{
 "cells": [
  {
   "cell_type": "code",
   "execution_count": 4,
   "metadata": {},
   "outputs": [
    {
     "name": "stdout",
     "output_type": "stream",
     "text": [
      "5.0\n",
      "3.141592653589793\n",
      "4.0\n",
      "3.141592653589793\n",
      "4.0\n",
      "3.141592653589793\n",
      "5.0\n",
      "3.141592653589793\n"
     ]
    }
   ],
   "source": [
    "#connecting with math library\n",
    "#Module02.py\n",
    "import math\n",
    "print(math.sqrt(25))\n",
    "print(math.pi)\n",
    "#Adding all features of math library in the program\n",
    "from math import *\n",
    "print (sqrt(16))\n",
    "print(pi)\n",
    "#Adding selective features of math library in the program\n",
    "from math import sqrt,pi\n",
    "print (sqrt(16))\n",
    "print(pi)\n",
    "#Nick nae to the Linked Library\n",
    "import math as chintu\n",
    "print(chintu.sqrt(25))\n",
    "print(chintu.pi)\n",
    "\n",
    "# import pack01.module01\n",
    "# pack01.module01.show(4)\n",
    "# pack01.module01.sum(2, 3)\n",
    "# print(pack01.module01.count)\n",
    "\n",
    "# from pack01.module01 import *\n",
    "# show(4)\n",
    "# sum(4,6)\n",
    "# print(count)\n",
    "\n",
    "# from pack01 import module01\n",
    "# module01.show(4)\n",
    "# module01.sum(4,6)\n",
    "# print(module01.count)\n"
   ]
  },
  {
   "cell_type": "code",
   "execution_count": null,
   "metadata": {},
   "outputs": [],
   "source": []
  }
 ],
 "metadata": {
  "kernelspec": {
   "display_name": "Python 3",
   "language": "python",
   "name": "python3"
  },
  "language_info": {
   "codemirror_mode": {
    "name": "ipython",
    "version": 3
   },
   "file_extension": ".py",
   "mimetype": "text/x-python",
   "name": "python",
   "nbconvert_exporter": "python",
   "pygments_lexer": "ipython3",
   "version": "3.7.4"
  }
 },
 "nbformat": 4,
 "nbformat_minor": 2
}
