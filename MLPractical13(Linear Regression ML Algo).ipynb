{
 "cells": [
  {
   "cell_type": "code",
   "execution_count": 2,
   "metadata": {},
   "outputs": [
    {
     "name": "stdout",
     "output_type": "stream",
     "text": [
      "Estimated coefficents:\n",
      "\n",
      "slope m =  1.0\n",
      "y-intercept c =  2.0\n",
      "y =  1.0 = x +  2.0\n"
     ]
    },
    {
     "data": {
      "image/png": "[encoded data removed]",
      "text/plain": [
       "<Figure size 432x288 with 1 Axes>"
      ]
     },
     "metadata": {
      "needs_background": "light"
     },
     "output_type": "display_data"
    }
   ],
   "source": [
    "#Supervised ML(Linear Regression ML) Algorithm \n",
    "import numpy as np\n",
    "import matplotlib.pyplot as plt\n",
    "def estimate_coef(x,y):\n",
    "    #number of observations/points\n",
    "    n=np.size(x)\n",
    "    #mean of x and y vector\n",
    "    m_x=np.mean(x)\n",
    "    m_y=np.mean(y)\n",
    "    #calculating cross-deviation and deviation about x\n",
    "    SS_xy=np.sum(x*y)-n * m_x * m_y\n",
    "    SS_xx=np.sum(x*y)-n * m_x * m_y\n",
    "    \n",
    "    #calculating regression coefficients\n",
    "    m = SS_xy / SS_xx\n",
    "    c = m_y - m * m_x\n",
    "    return [m,c]\n",
    "def plot_regression_line(x,y,b):\n",
    "    #plotting the actual points as scatter plot\n",
    "    plt.scatter(x,y, color=\"m\", marker=\"o\", s=30)\n",
    "    #predicted response vector\n",
    "    y_pred=b[0]+b[1]*x\n",
    "    #Plotting the regression line\n",
    "    plt.scatter(x,y_pred,color=\"g\")\n",
    "    plt.plot(x,y_pred,color=\"b\")\n",
    "    #putting labels\n",
    "    plt.xlabel('----x---->')\n",
    "    plt.ylabel('----y---->')\n",
    "    #   to show plot\n",
    "    plt.show()\n",
    "def startAIAlgorithm():\n",
    "    #observations\n",
    "    x=np.array([0,1,2,3,4,5,6,7,8,9])\n",
    "    y=np.array([1,3,2,5,7,8,8,9,10,12])\n",
    "    \n",
    "    #estimating coefficents\n",
    "    m,c =estimate_coef(x,y) #Sender values\n",
    "    print(\"Estimated coefficents:\\n\")\n",
    "    print(\"slope m = \",m )\n",
    "    print(\"y-intercept c = \",c)\n",
    "    print(\"y = \", m , \"= x + \", c)\n",
    "    #plotting regression line\n",
    "    plot_regression_line(x,y, [c,m])\n",
    "    \n",
    "if __name__==\"__main__\":\n",
    "    startAIAlgorithm()\n",
    "    "
   ]
  },
  {
   "cell_type": "code",
   "execution_count": null,
   "metadata": {},
   "outputs": [],
   "source": []
  }
 ],
 "metadata": {
  "kernelspec": {
   "display_name": "Python 3",
   "language": "python",
   "name": "python3"
  },
  "language_info": {
   "codemirror_mode": {
    "name": "ipython",
    "version": 3
   },
   "file_extension": ".py",
   "mimetype": "text/x-python",
   "name": "python",
   "nbconvert_exporter": "python",
   "pygments_lexer": "ipython3",
   "version": "3.7.4"
  }
 },
 "nbformat": 4,
 "nbformat_minor": 2
}
