{
 "cells": [
  {
   "cell_type": "code",
   "execution_count": 3,
   "metadata": {},
   "outputs": [
    {
     "name": "stdout",
     "output_type": "stream",
     "text": [
      "[[  6.   148.    72.   ...   0.63  50.     1.  ]\n",
      " [  1.    85.    66.   ...   0.35  31.     0.  ]\n",
      " [  8.   183.    64.   ...   0.67  32.     1.  ]\n",
      " ...\n",
      " [  5.   121.    72.   ...   0.24  30.     0.  ]\n",
      " [  1.   126.    60.   ...   0.35  47.     1.  ]\n",
      " [  1.    93.    70.   ...   0.32  23.     0.  ]]\n",
      "[[2.41 3.97 3.36 2.41 1.   3.   1.94 2.93]\n",
      " [1.24 2.71 3.16 2.17 1.   2.59 1.47 1.67]\n",
      " [2.88 4.68 3.1  1.   1.   2.39 2.01 1.73]\n",
      " [1.24 2.79 3.16 1.93 1.44 2.68 1.15 1.  ]\n",
      " [1.   3.75 2.31 2.41 1.79 3.57 4.77 1.8 ]\n",
      " [2.18 3.33 3.43 1.   1.   2.53 1.21 1.6 ]\n",
      " [1.71 2.57 2.64 2.29 1.42 2.85 1.29 1.33]\n",
      " [3.35 3.31 1.   1.   1.   3.1  1.1  1.53]\n",
      " [1.47 4.96 3.3  2.82 3.57 2.82 1.14 3.13]\n",
      " [2.88 3.51 4.15 1.   1.   1.   1.26 3.2 ]\n",
      " [1.94 3.21 4.02 1.   1.   3.24 1.19 1.6 ]\n",
      " [3.35 4.38 3.43 1.   1.   3.27 1.78 1.87]\n",
      " [3.35 3.79 3.62 1.   1.   2.62 3.33 3.4 ]\n",
      " [1.24 4.8  2.97 1.93 5.   2.79 1.55 3.53]\n",
      " [2.18 4.34 3.36 1.77 1.83 2.54 1.87 3.  ]\n",
      " [2.65 3.01 1.   1.   1.   2.79 1.69 1.73]\n",
      " [1.   3.37 3.75 2.9  2.09 3.73 1.81 1.67]\n",
      " [2.65 3.15 3.43 1.   1.   2.76 1.3  1.67]\n",
      " [1.24 3.07 1.98 2.54 1.39 3.58 1.18 1.8 ]\n",
      " [1.24 3.31 3.3  2.21 1.45 3.06 1.77 1.73]\n",
      " [1.71 3.53 3.89 2.66 2.11 3.34 2.07 1.4 ]\n",
      " [2.88 2.99 3.75 1.   1.   3.11 1.53 2.93]\n",
      " [2.65 4.94 3.95 1.   1.   3.37 1.64 2.33]\n",
      " [3.12 3.39 3.62 2.41 1.   2.73 1.32 1.53]\n",
      " [3.59 3.87 4.08 2.33 1.69 3.18 1.3  3.  ]\n",
      " [3.35 3.51 3.3  2.05 1.54 2.85 1.22 2.33]\n",
      " [2.65 3.95 3.49 1.   1.   3.35 1.31 2.47]\n",
      " [1.24 2.95 3.16 1.61 1.66 2.38 1.7  1.07]\n",
      " [4.06 3.91 3.69 1.77 1.52 2.32 1.29 3.4 ]\n",
      " [2.18 3.35 4.02 1.   1.   3.03 1.44 2.13]]\n"
     ]
    }
   ],
   "source": [
    "import pandas as pd\n",
    "from numpy import set_printoptions\n",
    "from sklearn.preprocessing import MinMaxScaler\n",
    "filename='/home/diwakar/Downloads/IITK ML Data/indians-diabetes.data.csv'\n",
    "hnames=['preg','plas','pres','skin','test','mass','pedi','age','class']\n",
    "dataframe=pd.read_csv(filename,names=hnames)\n",
    "array = dataframe.values\n",
    "print(array)\n",
    "#seprate array into input and output components\n",
    "X= array[: ,0:8] #[row ,cols]\n",
    "Y= array[: ,8]\n",
    "scaler = MinMaxScaler(feature_range=(1,5))\n",
    "#First Method\n",
    "rescaledX=scaler.fit_transform(X)\n",
    "#Second Method\n",
    "rescaledX=scaler.transform(X)\n",
    "\n",
    "#Summarize transformed data\n",
    "set_printoptions(precision=2)\n",
    "print(rescaledX [:30,: ] )  #[row,cols]\n"
   ]
  },
  {
   "cell_type": "code",
   "execution_count": null,
   "metadata": {},
   "outputs": [],
   "source": []
  }
 ],
 "metadata": {
  "kernelspec": {
   "display_name": "Python 3",
   "language": "python",
   "name": "python3"
  },
  "language_info": {
   "codemirror_mode": {
    "name": "ipython",
    "version": 3
   },
   "file_extension": ".py",
   "mimetype": "text/x-python",
   "name": "python",
   "nbconvert_exporter": "python",
   "pygments_lexer": "ipython3",
   "version": "3.7.4"
  }
 },
 "nbformat": 4,
 "nbformat_minor": 2
}
