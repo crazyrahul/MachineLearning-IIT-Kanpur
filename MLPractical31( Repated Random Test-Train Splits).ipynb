{
 "cells": [
  {
   "cell_type": "code",
   "execution_count": null,
   "metadata": {},
   "outputs": [],
   "source": [
    "#4 Repated Random Test-Train Splits\n",
    "# Evalute using Shuffle Split Cross Validation\n",
    "import pandas as pd\n",
    "from sklearn.model_selection import ShuffleSplit\n",
    "\n",
    "from sklearn.model_selection import cross_val_score\n",
    "from sklearn.linear_model import LogisticRegression\n",
    "import warnings\n",
    "warnings.filterwarnings(\"ignore\")\n",
    "\n",
    "#load data\n",
    "filename='/home/diwakar/Downloads/IITK ML Data/indians-diabetes.data.csv'\n",
    "hnames=['preg','plas','pres','skin','test','mass','pedi','age','class']\n",
    "dataframe=pd.read_csv(filename,names=hnames)\n",
    "array = dataframe.values\n",
    "#seprate array into input and output components\n",
    "X= array[: ,0:8] #[row ,cols]\n",
    "Y= array[: ,8]\n",
    "\n",
    "test_data_size=0.33\n",
    "no_of_repetiions=4\n",
    "\n",
    "shufflesplit=ShuffleSplit(n_split=no_of_repetiions,test_size=test_data_size)\n",
    "\n",
    "model=LogisticRegression()\n",
    "result=cross_val_score(model,X,Y, cv=shufflesplit)\n",
    "\n",
    "print(\"Accuracy = %.3f \"%(result.mean()*100.0))\n",
    "print(\"std.Devia = %.3f \"%(result.std()*100.0))\n"
   ]
  }
 ],
 "metadata": {
  "kernelspec": {
   "display_name": "Python 3",
   "language": "python",
   "name": "python3"
  },
  "language_info": {
   "codemirror_mode": {
    "name": "ipython",
    "version": 3
   },
   "file_extension": ".py",
   "mimetype": "text/x-python",
   "name": "python",
   "nbconvert_exporter": "python",
   "pygments_lexer": "ipython3",
   "version": "3.7.4"
  }
 },
 "nbformat": 4,
 "nbformat_minor": 2
}
