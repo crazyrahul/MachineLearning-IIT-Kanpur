{
 "cells": [
  {
   "cell_type": "code",
   "execution_count": 12,
   "metadata": {},
   "outputs": [
    {
     "name": "stdout",
     "output_type": "stream",
     "text": [
      "           preg      plas      pres      skin      test      mass      pedi       age     class\n",
      "preg   1.000000  0.129459  0.141282 -0.081672 -0.073535  0.017683 -0.033523  0.544341  0.221898\n",
      "plas   0.129459  1.000000  0.152590  0.057328  0.331357  0.221071  0.137337  0.263514  0.466581\n",
      "pres   0.141282  0.152590  1.000000  0.207371  0.088933  0.281805  0.041265  0.239528  0.065068\n",
      "skin  -0.081672  0.057328  0.207371  1.000000  0.436783  0.392573  0.183928 -0.113970  0.074752\n",
      "test  -0.073535  0.331357  0.088933  0.436783  1.000000  0.197859  0.185071 -0.042163  0.130548\n",
      "mass   0.017683  0.221071  0.281805  0.392573  0.197859  1.000000  0.140647  0.036242  0.292695\n",
      "pedi  -0.033523  0.137337  0.041265  0.183928  0.185071  0.140647  1.000000  0.033561  0.173844\n",
      "age    0.544341  0.263514  0.239528 -0.113970 -0.042163  0.036242  0.033561  1.000000  0.238356\n",
      "class  0.221898  0.466581  0.065068  0.074752  0.130548  0.292695  0.173844  0.238356  1.000000\n"
     ]
    },
    {
     "data": {
      "image/png": "[encoded data removed]",
      "text/plain": [
       "<Figure size 432x288 with 2 Axes>"
      ]
     },
     "metadata": {
      "needs_background": "light"
     },
     "output_type": "display_data"
    }
   ],
   "source": [
    "import warnings\n",
    "warnings.filterwarnings(action=\"ignore\")\n",
    "import pandas as pd\n",
    "#Correlations Matrix Plot\n",
    "from matplotlib import pyplot as plt\n",
    "import numpy\n",
    "pd.set_option('display.width',1000)\n",
    "pd.set_option('display.max_column',9)\n",
    "filename='/home/diwakar/Downloads/IITK ML Data/indians-diabetes.data.csv'\n",
    "hnames=['preg','plas','pres','skin','test','mass','pedi','age','class']\n",
    "dataframe=pd.read_csv(filename,names=hnames)\n",
    "correlations=dataframe.corr()\n",
    "print(correlations)\n",
    "#Plot correlation matrix\n",
    "fig=plt.figure()\n",
    "#Following will add matrix and side bar in entire area\n",
    "subFig=fig.add_subplot(111) \n",
    "cax=subFig.matshow(correlations,vmin=-1,vmax=1)\n",
    "fig.colorbar(cax)\n",
    "#-----------------\n",
    "ticks=numpy.arange(0,9) #It will generate values from 0....8\n",
    "subFig.set_xticks(ticks)\n",
    "subFig.set_yticks(ticks)\n",
    "subFig.set_xticklabels(hnames)\n",
    "subFig.set_yticklabels(hnames)\n",
    "#--------------------\n",
    "plt.show()"
   ]
  },
  {
   "cell_type": "code",
   "execution_count": null,
   "metadata": {},
   "outputs": [],
   "source": []
  }
 ],
 "metadata": {
  "kernelspec": {
   "display_name": "Python 3",
   "language": "python",
   "name": "python3"
  },
  "language_info": {
   "codemirror_mode": {
    "name": "ipython",
    "version": 3
   },
   "file_extension": ".py",
   "mimetype": "text/x-python",
   "name": "python",
   "nbconvert_exporter": "python",
   "pygments_lexer": "ipython3",
   "version": "3.7.4"
  }
 },
 "nbformat": 4,
 "nbformat_minor": 2
}
