{
 "cells": [
  {
   "cell_type": "code",
   "execution_count": 7,
   "metadata": {},
   "outputs": [
    {
     "name": "stdout",
     "output_type": "stream",
     "text": [
      "Accuracy = 77.35 %\n"
     ]
    }
   ],
   "source": [
    "#Pipelines\n",
    "import pandas as pd\n",
    "from sklearn.model_selection import KFold\n",
    "from sklearn.model_selection import cross_val_score\n",
    "from sklearn.preprocessing import StandardScaler\n",
    "from sklearn.pipeline import Pipeline\n",
    "from sklearn.discriminant_analysis import LinearDiscriminantAnalysis\n",
    "import warnings\n",
    "warnings.filterwarnings(\"ignore\")\n",
    "\n",
    "#load data\n",
    "filename='/home/diwakar/Downloads/IITK ML Data/indians-diabetes.data.csv'\n",
    "hnames=['preg','plas','pres','skin','test','mass','pedi','age','class']\n",
    "dataframe=pd.read_csv(filename,names=hnames)\n",
    "array = dataframe.values\n",
    "#seprate array into input and output components\n",
    "X= array[: ,0:8] #[row ,cols]\n",
    "Y= array[: ,8]\n",
    "\n",
    "#Create Pipeline\n",
    "estimators = []\n",
    "estimators.append((\"standardize\", StandardScaler()))\n",
    "estimators.append((\"lda\",LinearDiscriminantAnalysis()))\n",
    "pipelineModel = Pipeline(estimators)\n",
    "\n",
    "#Evaluate pipeline\n",
    "num_folds = 10\n",
    "kfold=KFold(n_splits=num_folds,random_state=7)\n",
    "\n",
    "results=cross_val_score(pipelineModel,X,Y, cv=kfold)\n",
    "#print(\"Results: \",results)\n",
    "print(\"Accuracy = %.2f %%\"%(results.mean()*100.0))\n"
   ]
  },
  {
   "cell_type": "code",
   "execution_count": null,
   "metadata": {},
   "outputs": [],
   "source": []
  }
 ],
 "metadata": {
  "kernelspec": {
   "display_name": "Python 3",
   "language": "python",
   "name": "python3"
  },
  "language_info": {
   "codemirror_mode": {
    "name": "ipython",
    "version": 3
   },
   "file_extension": ".py",
   "mimetype": "text/x-python",
   "name": "python",
   "nbconvert_exporter": "python",
   "pygments_lexer": "ipython3",
   "version": "3.7.4"
  }
 },
 "nbformat": 4,
 "nbformat_minor": 2
}
