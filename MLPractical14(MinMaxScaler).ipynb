{
 "cells": [
  {
   "cell_type": "code",
   "execution_count": 18,
   "metadata": {},
   "outputs": [
    {
     "name": "stdout",
     "output_type": "stream",
     "text": [
      "[[-1.   2. ]\n",
      " [-0.5  6. ]\n",
      " [ 0.  10. ]\n",
      " [ 1.  18. ]]\n",
      "[[1. 1.]\n",
      " [2. 2.]\n",
      " [3. 3.]\n",
      " [5. 5.]]\n"
     ]
    }
   ],
   "source": [
    "from sklearn.preprocessing import MinMaxScaler\n",
    "import numpy as np\n",
    "data = np.array([[-1,2],[-0.5,6],[0,10],[1,18]])\n",
    "print(data)\n",
    "scaler = MinMaxScaler(feature_range=(1,5))\n",
    "#First Method\n",
    "rescaledX=scaler.fit_transform(data)\n",
    "#Second Method\n",
    "rescaledX=scaler.transform(data)\n",
    "\n",
    "#Summarize transformed data\n",
    "#np.set_printoptions(precision=2)\n",
    "print(rescaledX)  #[row,cols]\n"
   ]
  },
  {
   "cell_type": "code",
   "execution_count": null,
   "metadata": {},
   "outputs": [],
   "source": []
  }
 ],
 "metadata": {
  "kernelspec": {
   "display_name": "Python 3",
   "language": "python",
   "name": "python3"
  },
  "language_info": {
   "codemirror_mode": {
    "name": "ipython",
    "version": 3
   },
   "file_extension": ".py",
   "mimetype": "text/x-python",
   "name": "python",
   "nbconvert_exporter": "python",
   "pygments_lexer": "ipython3",
   "version": "3.7.4"
  }
 },
 "nbformat": 4,
 "nbformat_minor": 2
}
