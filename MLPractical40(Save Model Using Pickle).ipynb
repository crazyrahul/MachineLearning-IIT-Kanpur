{
 "cells": [
  {
   "cell_type": "code",
   "execution_count": 1,
   "metadata": {},
   "outputs": [
    {
     "name": "stdout",
     "output_type": "stream",
     "text": [
      "Model dumped successfully into a file by Pickle \n",
      "\n",
      "\n",
      "\n",
      "\n",
      "-------------------\n",
      "\n",
      "some time later........\n",
      "\n",
      "\n",
      "\n",
      "\n",
      "Model loaded successfully from file by Pickle\n",
      "Accuracy Result = 75.590551 %\n"
     ]
    }
   ],
   "source": [
    "#Save Model Using Pickle\n",
    "import pandas as pd\n",
    "import pickle\n",
    "from sklearn.model_selection import train_test_split\n",
    "from sklearn.linear_model import LogisticRegression\n",
    "import warnings\n",
    "warnings.filterwarnings(\"ignore\")\n",
    "\n",
    "#load data\n",
    "filename='/home/diwakar/Downloads/IITK ML Data/indians-diabetes.data.csv'\n",
    "hnames=['preg','plas','pres','skin','test','mass','pedi','age','class']\n",
    "dataframe=pd.read_csv(filename,names=hnames)\n",
    "array = dataframe.values\n",
    "\n",
    "#seprate array into input and output components\n",
    "X= array[: ,0:8] #[row ,cols]\n",
    "Y= array[: ,8]\n",
    "\n",
    "test_data_size =0.33\n",
    "seed = 7\n",
    "\n",
    "X_train,X_test,Y_train,Y_test=train_test_split(X,Y,test_size=test_data_size,random_state=seed)\n",
    "\n",
    "#Fit the model on 67% data\n",
    "model=LogisticRegression()\n",
    "model.fit(X_train,Y_train)\n",
    "\n",
    "# Save the model to disk\n",
    "filename = \"finalized_model.sav\"\n",
    "pickle.dump(model,open(filename, \"wb\"))\n",
    "print(\"Model dumped successfully into a file by Pickle \\n\\n\\n\")\n",
    "\n",
    "print(\"\\n-------------------\\n\")\n",
    "print(\"some time later........\\n\\n\\n\\n\")\n",
    "\n",
    "#load the model from disk\n",
    "loaded_model = pickle.load(open(filename,\"rb\"))\n",
    "print(\"Model loaded successfully from file by Pickle\")\n",
    "\n",
    "result=model.score(X_test,Y_test) #Evaluate Y_predict and match with Y_test\n",
    "# print(result)\n",
    "print(\"Accuracy Result = %f %%\" % (result*100))"
   ]
  },
  {
   "cell_type": "code",
   "execution_count": null,
   "metadata": {},
   "outputs": [],
   "source": []
  }
 ],
 "metadata": {
  "kernelspec": {
   "display_name": "Python 3",
   "language": "python",
   "name": "python3"
  },
  "language_info": {
   "codemirror_mode": {
    "name": "ipython",
    "version": 3
   },
   "file_extension": ".py",
   "mimetype": "text/x-python",
   "name": "python",
   "nbconvert_exporter": "python",
   "pygments_lexer": "ipython3",
   "version": "3.7.4"
  }
 },
 "nbformat": 4,
 "nbformat_minor": 2
}
