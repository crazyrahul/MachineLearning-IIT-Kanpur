{
 "cells": [
  {
   "cell_type": "code",
   "execution_count": 15,
   "metadata": {},
   "outputs": [
    {
     "name": "stdout",
     "output_type": "stream",
     "text": [
      "3\n",
      "6\n",
      "3\n",
      "list1*4 =  [1, 2, 3, 1, 2, 3, 1, 2, 3, 1, 2, 3]\n"
     ]
    }
   ],
   "source": [
    "list1=[1,2,3]\n",
    "#list do not support operation broadcosting\n",
    "print(list1[0]+list1[1])\n",
    "a=list1[2]*list1[1]\n",
    "print(a)\n",
    "print(list1[2])\n",
    "print(\"list1*4 = \",list1*4)"
   ]
  },
  {
   "cell_type": "code",
   "execution_count": 4,
   "metadata": {},
   "outputs": [
    {
     "name": "stdout",
     "output_type": "stream",
     "text": [
      "[1 2 3]\n",
      "nparr*4 =  [ 4  8 12]\n",
      "nparr+4 =  [5 6 7]\n",
      "3\n"
     ]
    }
   ],
   "source": [
    "import numpy as np\n",
    "nparr=np.array([1,2,3])\n",
    "print(nparr)\n",
    "print(\"nparr*4 = \",nparr*4)\n",
    "print(\"nparr+4 = \",nparr+4)\n",
    "print(nparr[2])"
   ]
  },
  {
   "cell_type": "code",
   "execution_count": 30,
   "metadata": {},
   "outputs": [
    {
     "name": "stdout",
     "output_type": "stream",
     "text": [
      "<class 'int'>\n",
      "<class 'float'>\n",
      "<class 'str'>\n",
      "<class 'numpy.ndarray'>\n",
      "nparr.dtype float64\n",
      "nparr.shape (3,)\n",
      "nparr.size 3\n"
     ]
    }
   ],
   "source": [
    "a=10\n",
    "print(type(a))\n",
    "a=12.5\n",
    "print(type(a))\n",
    "a='hello'\n",
    "\n",
    "print(type(a))\n",
    "\n",
    "import numpy as np\n",
    "nparr=np.array([1,2.0,3])\n",
    "print(type(nparr))\n",
    "\n",
    "print(\"nparr.dtype\",nparr.dtype)\n",
    "print(\"nparr.shape\",nparr.shape)\n",
    "print(\"nparr.size\",nparr.size)"
   ]
  },
  {
   "cell_type": "code",
   "execution_count": 32,
   "metadata": {},
   "outputs": [
    {
     "name": "stdout",
     "output_type": "stream",
     "text": [
      "---------------------------------\n",
      "ddarr.ndim =  2\n",
      "ddarr.shape =  (2, 3)\n",
      "ddarr.size =  6\n",
      "len(ddarr) =  2\n",
      "ddarr.dtype =  int64\n",
      "[[1 2 3]\n",
      " [4 5 6]]\n",
      "*************************************\n",
      "ddarr.[0,1] =  2\n",
      "ddarr[0 ] =  [1 2 3]\n",
      "ddarr[:,0] =  [1 4]\n",
      "ddarr[1 ,:] =  [4 5 6]\n"
     ]
    }
   ],
   "source": [
    "import numpy as np\n",
    "print(\"---------------------------------\")\n",
    "ddarr=np.array([[1,2,3],[4,5,6]])\n",
    "print(\"ddarr.ndim = \",ddarr.ndim)\n",
    "print(\"ddarr.shape = \",ddarr.shape)\n",
    "#ddarr.shape=(2L,3L)\n",
    "print(\"ddarr.size = \",ddarr.size)\n",
    "print(\"len(ddarr) = \",len(ddarr))\n",
    "print(\"ddarr.dtype = \",ddarr.dtype)\n",
    "print(ddarr)\n",
    "print('*************************************')\n",
    "print(\"ddarr.[0,1] = \",ddarr[0,1]) #2 [row,column]\n",
    "print(\"ddarr[0 ] = \",ddarr[0 ])\n",
    "print(\"ddarr[:,0] = \",ddarr[:,0])\n",
    "print(\"ddarr[1 ,:] = \",ddarr[1,:])"
   ]
  },
  {
   "cell_type": "code",
   "execution_count": 41,
   "metadata": {},
   "outputs": [
    {
     "name": "stdout",
     "output_type": "stream",
     "text": [
      "[[ 1  2]\n",
      " [ 3  4]\n",
      " [ 5  6]\n",
      " [ 7  8]\n",
      " [ 9 10]\n",
      " [11 12]\n",
      " [13 14]]\n",
      "(7, 2)\n",
      "2\n",
      "d1[ : :2, 0] [ 1  5  9 13]\n",
      "d1[1: :2,1] [ 4  8 12]\n",
      "d1[::2]\n",
      " [[ 1  2]\n",
      " [ 5  6]\n",
      " [ 9 10]\n",
      " [13 14]]\n",
      "[ 4  8 12]\n"
     ]
    }
   ],
   "source": [
    "import numpy as np\n",
    "d1=np.array([[1,2],\n",
    "            [3,4],\n",
    "            [5,6],\n",
    "            [7,8],\n",
    "            [9,10],\n",
    "            [11,12],\n",
    "            [13,14]])\n",
    "print(d1)\n",
    "print(d1.shape)\n",
    "print(d1.ndim)\n",
    "#Entire expression before \",\" is for rows\n",
    "print(\"d1[ : :2, 0]\",d1[ : :2, 0])\n",
    "print('d1[1: :2,1]',d1[1: :2,1])\n",
    "print(\"d1[::2]\\n\",d1[::2])\n",
    "print(d1[1::2,1])"
   ]
  },
  {
   "cell_type": "code",
   "execution_count": 45,
   "metadata": {},
   "outputs": [
    {
     "name": "stdout",
     "output_type": "stream",
     "text": [
      "Zeros field array zr = \n",
      " [[0. 0. 0. 0.]\n",
      " [0. 0. 0. 0.]\n",
      " [0. 0. 0. 0.]]\n",
      "1's field array ones = \n",
      " [[1. 1. 1. 1.]\n",
      " [1. 1. 1. 1.]\n",
      " [1. 1. 1. 1.]\n",
      " [1. 1. 1. 1.]]\n",
      "[[4. 4. 4. 4.]\n",
      " [4. 4. 4. 4.]\n",
      " [4. 4. 4. 4.]\n",
      " [4. 4. 4. 4.]]\n",
      "float64\n",
      "Zeros field array zr = \n",
      " [0. 0. 0. 0. 0.]\n",
      "(5,)\n"
     ]
    }
   ],
   "source": [
    "import numpy as np\n",
    "zr=np.zeros([3,4])\n",
    "print(\"Zeros field array zr = \\n\",zr)\n",
    "\n",
    "ar=np.ones([4,4])\n",
    "print(\"1's field array ones = \\n\",ar)\n",
    "print(ar*4)\n",
    "print(ar.dtype)\n",
    "zr2=np.zeros(5)\n",
    "print(\"Zeros field array zr = \\n\",zr2)\n",
    "print(zr2.shape)\n"
   ]
  },
  {
   "cell_type": "code",
   "execution_count": 53,
   "metadata": {},
   "outputs": [
    {
     "name": "stdout",
     "output_type": "stream",
     "text": [
      "ar =  [1 2 3 4 5]\n",
      "after updating, ar =  [ 1  2  3 16  5]\n"
     ]
    }
   ],
   "source": [
    "import numpy as np\n",
    "ar=np.arange(1,6) #[1,2,3,4,5]\n",
    "print(\"ar = \",ar)\n",
    "ar[3]=16\n",
    "print(\"after updating, ar = \",ar)"
   ]
  },
  {
   "cell_type": "code",
   "execution_count": 63,
   "metadata": {},
   "outputs": [
    {
     "name": "stdout",
     "output_type": "stream",
     "text": [
      "arr.sum() =  165.0\n",
      "165.0\n",
      "arr.std() =  18.786076404259266\n",
      "arr.min() =  0.0\n",
      "0.0\n",
      "27.5\n",
      "arr.size =  6\n",
      "6\n",
      "arr.shape =  (6,)\n"
     ]
    }
   ],
   "source": [
    "import numpy as np\n",
    "arr=np.array([11,22,33,0.,44,55])\n",
    "print(\"arr.sum() = \",arr.sum())\n",
    "print(np.sum(arr))\n",
    "print(\"arr.std() = \",arr.std())\n",
    "print(\"arr.min() = \",arr.min())\n",
    "print(np.min(arr))\n",
    "print(np.mean(arr))\n",
    "print(\"arr.size = \",arr.size)\n",
    "print(len(arr))\n",
    "print(\"arr.shape = \",arr.shape)"
   ]
  },
  {
   "cell_type": "code",
   "execution_count": 73,
   "metadata": {},
   "outputs": [
    {
     "name": "stdout",
     "output_type": "stream",
     "text": [
      "\n",
      "\n",
      "\n",
      "n1 =  [4 5 6]\n",
      "n2 =  [1 2 3]\n",
      "n1+n2 =  [5 7 9]\n",
      "n1-n2 =  [3 3 3]\n",
      "n1*n2 =  [ 4 10 18]\n",
      "n1/n2 =  [4.  2.5 2. ]\n",
      "[ 6 11 11]\n",
      "<class 'list'>\n",
      "<class 'numpy.ndarray'>\n",
      "<class 'numpy.ndarray'>\n"
     ]
    }
   ],
   "source": [
    "import numpy as np\n",
    "n1=np.array([4,5,6])\n",
    "n2=np.array([1,2,3])\n",
    "print(\"\\n\\n\")\n",
    "print(\"n1 = \",n1)\n",
    "print(\"n2 = \",n2)\n",
    "print(\"n1+n2 = \",n1+n2)\n",
    "print(\"n1-n2 = \",n1-n2)\n",
    "print(\"n1*n2 = \",n1*n2)\n",
    "print(\"n1/n2 = \",n1/n2)\n",
    "# n3=np.array([4,5,6,7])\n",
    "# print(n1+n3)\n",
    "n4=[2,6,5]\n",
    "\n",
    "print(n1+n4)\n",
    "print(type(n4))\n",
    "print(type(n1))\n",
    "print(type(n1+n4))"
   ]
  },
  {
   "cell_type": "code",
   "execution_count": 78,
   "metadata": {},
   "outputs": [
    {
     "name": "stdout",
     "output_type": "stream",
     "text": [
      "Before :  [ 10  -1   0  90 300  -6   2]\n",
      "\n",
      "\t [-6, -1, 0, 2, 10, 90, 300]\n",
      "After :  [ 10  -1   0  90 300  -6   2]\n",
      "After n4.sort() =  [ -6  -1   0   2  10  90 300]\n"
     ]
    }
   ],
   "source": [
    "import numpy as np\n",
    "n4=np.array([10,-1,0,90,300,-6,2])\n",
    "print(\"Before : \",n4)\n",
    "print(\"\\n\\t\",sorted(n4)) #external sorting\n",
    "print(\"After : \",n4)\n",
    "n4.sort() #In-place sorting(internal sorting)\n",
    "print(\"After n4.sort() = \",n4)"
   ]
  },
  {
   "cell_type": "code",
   "execution_count": 80,
   "metadata": {},
   "outputs": [
    {
     "name": "stdout",
     "output_type": "stream",
     "text": [
      "n4 = :  [777 555 222 111 999 666]\n",
      "n4.argsort():  [3 2 1 5 0 4]\n",
      "[777 555 222 111 999 666]\n",
      "Min= 111\n",
      "999\n"
     ]
    }
   ],
   "source": [
    "import numpy as np\n",
    "n4=np.array([777,555,222,111,999,666])\n",
    "print(\"n4 = : \",n4)\n",
    "print(\"n4.argsort(): \",n4.argsort()) #[3,2,1,5,0,4]\n",
    "indexArr=n4.argsort()\n",
    "print(n4)\n",
    "print(\"Min=\",n4[indexArr[0]])\n",
    "print(n4[indexArr[len(indexArr)-1]])\n"
   ]
  },
  {
   "cell_type": "code",
   "execution_count": 83,
   "metadata": {},
   "outputs": [
    {
     "name": "stdout",
     "output_type": "stream",
     "text": [
      "3.141592653589793\n",
      "[-5. -4. -3. -2. -1.  0.  1.  2.  3.  4.  5.]\n",
      "[-3.14159265 -3.11695271 -3.09231277 -3.06767283 -3.04303288 -3.01839294\n",
      " -2.993753   -2.96911306 -2.94447311 -2.91983317 -2.89519323 -2.87055329\n",
      " -2.84591335 -2.8212734  -2.79663346 -2.77199352 -2.74735358 -2.72271363\n",
      " -2.69807369 -2.67343375 -2.64879381 -2.62415386 -2.59951392 -2.57487398\n",
      " -2.55023404 -2.52559409 -2.50095415 -2.47631421 -2.45167427 -2.42703432\n",
      " -2.40239438 -2.37775444 -2.3531145  -2.32847456 -2.30383461 -2.27919467\n",
      " -2.25455473 -2.22991479 -2.20527484 -2.1806349  -2.15599496 -2.13135502\n",
      " -2.10671507 -2.08207513 -2.05743519 -2.03279525 -2.0081553  -1.98351536\n",
      " -1.95887542 -1.93423548 -1.90959553 -1.88495559 -1.86031565 -1.83567571\n",
      " -1.81103577 -1.78639582 -1.76175588 -1.73711594 -1.712476   -1.68783605\n",
      " -1.66319611 -1.63855617 -1.61391623 -1.58927628 -1.56463634 -1.5399964\n",
      " -1.51535646 -1.49071651 -1.46607657 -1.44143663 -1.41679669 -1.39215674\n",
      " -1.3675168  -1.34287686 -1.31823692 -1.29359698 -1.26895703 -1.24431709\n",
      " -1.21967715 -1.19503721 -1.17039726 -1.14575732 -1.12111738 -1.09647744\n",
      " -1.07183749 -1.04719755 -1.02255761 -0.99791767 -0.97327772 -0.94863778\n",
      " -0.92399784 -0.8993579  -0.87471795 -0.85007801 -0.82543807 -0.80079813\n",
      " -0.77615819 -0.75151824 -0.7268783  -0.70223836 -0.67759842 -0.65295847\n",
      " -0.62831853 -0.60367859 -0.57903865 -0.5543987  -0.52975876 -0.50511882\n",
      " -0.48047888 -0.45583893 -0.43119899 -0.40655905 -0.38191911 -0.35727916\n",
      " -0.33263922 -0.30799928 -0.28335934 -0.2587194  -0.23407945 -0.20943951\n",
      " -0.18479957 -0.16015963 -0.13551968 -0.11087974 -0.0862398  -0.06159986\n",
      " -0.03695991 -0.01231997  0.01231997  0.03695991  0.06159986  0.0862398\n",
      "  0.11087974  0.13551968  0.16015963  0.18479957  0.20943951  0.23407945\n",
      "  0.2587194   0.28335934  0.30799928  0.33263922  0.35727916  0.38191911\n",
      "  0.40655905  0.43119899  0.45583893  0.48047888  0.50511882  0.52975876\n",
      "  0.5543987   0.57903865  0.60367859  0.62831853  0.65295847  0.67759842\n",
      "  0.70223836  0.7268783   0.75151824  0.77615819  0.80079813  0.82543807\n",
      "  0.85007801  0.87471795  0.8993579   0.92399784  0.94863778  0.97327772\n",
      "  0.99791767  1.02255761  1.04719755  1.07183749  1.09647744  1.12111738\n",
      "  1.14575732  1.17039726  1.19503721  1.21967715  1.24431709  1.26895703\n",
      "  1.29359698  1.31823692  1.34287686  1.3675168   1.39215674  1.41679669\n",
      "  1.44143663  1.46607657  1.49071651  1.51535646  1.5399964   1.56463634\n",
      "  1.58927628  1.61391623  1.63855617  1.66319611  1.68783605  1.712476\n",
      "  1.73711594  1.76175588  1.78639582  1.81103577  1.83567571  1.86031565\n",
      "  1.88495559  1.90959553  1.93423548  1.95887542  1.98351536  2.0081553\n",
      "  2.03279525  2.05743519  2.08207513  2.10671507  2.13135502  2.15599496\n",
      "  2.1806349   2.20527484  2.22991479  2.25455473  2.27919467  2.30383461\n",
      "  2.32847456  2.3531145   2.37775444  2.40239438  2.42703432  2.45167427\n",
      "  2.47631421  2.50095415  2.52559409  2.55023404  2.57487398  2.59951392\n",
      "  2.62415386  2.64879381  2.67343375  2.69807369  2.72271363  2.74735358\n",
      "  2.77199352  2.79663346  2.8212734   2.84591335  2.87055329  2.89519323\n",
      "  2.91983317  2.94447311  2.96911306  2.993753    3.01839294  3.04303288\n",
      "  3.06767283  3.09231277  3.11695271  3.14159265]\n"
     ]
    }
   ],
   "source": [
    "import numpy as np\n",
    "print(np.pi)\n",
    "print(np.linspace(-5,5,11))\n",
    "print(np.linspace(-np.pi,np.pi,256))"
   ]
  },
  {
   "cell_type": "code",
   "execution_count": 93,
   "metadata": {},
   "outputs": [
    {
     "name": "stdout",
     "output_type": "stream",
     "text": [
      "--Transcendental functions:---\n",
      "[1 2 3 4 5]\n",
      "[ 0.84147098  0.90929743  0.14112001 -0.7568025  -0.95892427]\n",
      "[0.         0.69314718 1.09861229 1.38629436 1.60943791]\n",
      "[  2.71828183   7.3890561   20.08553692  54.59815003 148.4131591 ]\n",
      "-1.995200412208242\n"
     ]
    }
   ],
   "source": [
    "import numpy as np\n",
    "print(\"--Transcendental functions:---\")\n",
    "a=np.arange(1,6)\n",
    "print(a)\n",
    "print(np.sin(a))\n",
    "print(np.log(a))\n",
    "print(np.exp(a))\n",
    "\n",
    "print(np.tan(90))"
   ]
  },
  {
   "cell_type": "code",
   "execution_count": 96,
   "metadata": {},
   "outputs": [
    {
     "name": "stdout",
     "output_type": "stream",
     "text": [
      "---Sum by rows and by columns:---\n",
      "x = \n",
      " [[1 2]\n",
      " [3 4]]\n",
      "10\n",
      "[4 6]\n",
      "4 3\n",
      "4 6\n",
      "[3 7]\n",
      "3 7\n"
     ]
    }
   ],
   "source": [
    "import numpy as np\n",
    "print(\"---Sum by rows and by columns:---\")\n",
    "x=np.array([[1,2],[3,4]])\n",
    "print(\"x = \\n\",x)\n",
    "#array([1,2],\n",
    "#      [3,4])\n",
    "print(x.sum())\n",
    "print(x.sum(axis=0)) #columns(first dimension)\n",
    "#array([4,6])\n",
    "print(x[:,0].sum(),x[:1].sum()) #4, 6\n",
    "print(x[:,0].sum(),x[:,1].sum()) #4, 6\n",
    "print(x.sum(axis=1)) #rows(second dimension) 3, 7\n",
    "print(x[0,:].sum(),x[1,:].sum())# 3,7    "
   ]
  },
  {
   "cell_type": "code",
   "execution_count": null,
   "metadata": {},
   "outputs": [],
   "source": []
  }
 ],
 "metadata": {
  "kernelspec": {
   "display_name": "Python 3",
   "language": "python",
   "name": "python3"
  },
  "language_info": {
   "codemirror_mode": {
    "name": "ipython",
    "version": 3
   },
   "file_extension": ".py",
   "mimetype": "text/x-python",
   "name": "python",
   "nbconvert_exporter": "python",
   "pygments_lexer": "ipython3",
   "version": "3.7.4"
  }
 },
 "nbformat": 4,
 "nbformat_minor": 2
}
