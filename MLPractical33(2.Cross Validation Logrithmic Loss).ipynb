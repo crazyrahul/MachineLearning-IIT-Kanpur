{
 "cells": [
  {
   "cell_type": "code",
   "execution_count": 6,
   "metadata": {},
   "outputs": [
    {
     "name": "stdout",
     "output_type": "stream",
     "text": [
      "Accuracy = -0.493 (0.047)\n"
     ]
    }
   ],
   "source": [
    "#2) Cross Validation Logrithmic Loss\n",
    "\n",
    "import pandas as pd\n",
    "from sklearn.model_selection import KFold\n",
    "from sklearn.model_selection import cross_val_score\n",
    "from sklearn.linear_model import LogisticRegression\n",
    "import warnings\n",
    "warnings.filterwarnings(\"ignore\")\n",
    "\n",
    "#load data\n",
    "filename='/home/diwakar/Downloads/IITK ML Data/indians-diabetes.data.csv'\n",
    "hnames=['preg','plas','pres','skin','test','mass','pedi','age','class']\n",
    "dataframe=pd.read_csv(filename,names=hnames)\n",
    "array = dataframe.values\n",
    "#seprate array into input and output components\n",
    "X= array[: ,0:8] #[row ,cols]\n",
    "Y= array[: ,8]\n",
    "\n",
    "model=LogisticRegression()\n",
    "num_folds = 10\n",
    "kfold=KFold(n_splits=num_folds)\n",
    "# This is the default method of accuracy\n",
    "scoringMethod='neg_log_loss'\n",
    "result=cross_val_score(model,X,Y, cv=kfold, scoring=scoringMethod) \n",
    "#result=cross_val_score(model,X,Y, cv=kfold)               default accuracy \n",
    "# print(\"Result: \",result)\n",
    "print(\"Accuracy = %.3f (%.3f)\"%(result.mean(), result.std()))\n"
   ]
  },
  {
   "cell_type": "code",
   "execution_count": null,
   "metadata": {},
   "outputs": [],
   "source": []
  }
 ],
 "metadata": {
  "kernelspec": {
   "display_name": "Python 3",
   "language": "python",
   "name": "python3"
  },
  "language_info": {
   "codemirror_mode": {
    "name": "ipython",
    "version": 3
   },
   "file_extension": ".py",
   "mimetype": "text/x-python",
   "name": "python",
   "nbconvert_exporter": "python",
   "pygments_lexer": "ipython3",
   "version": "3.7.4"
  }
 },
 "nbformat": 4,
 "nbformat_minor": 2
}
