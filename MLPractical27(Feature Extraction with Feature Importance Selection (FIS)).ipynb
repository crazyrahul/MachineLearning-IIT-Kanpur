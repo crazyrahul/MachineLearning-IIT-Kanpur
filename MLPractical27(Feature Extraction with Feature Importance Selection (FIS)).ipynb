{
 "cells": [
  {
   "cell_type": "code",
   "execution_count": 3,
   "metadata": {},
   "outputs": [
    {
     "name": "stdout",
     "output_type": "stream",
     "text": [
      "[0.121498   0.23138457 0.09983538 0.07459769 0.06565417 0.1542521\n",
      " 0.11131271 0.14146538]\n",
      "\n",
      "\n",
      "\n",
      "[('preg', 0.12149800259083603), ('plas', 0.23138457006651242), ('pres', 0.09983537732567804), ('skin', 0.0745976907101224), ('test', 0.06565416814012281), ('mass', 0.15425209853675315), ('pedi', 0.11131271095682752), ('age', 0.14146538167314762)]\n"
     ]
    }
   ],
   "source": [
    "#Feature Extraction with Feature Importance Selection (FIS) (Gini Indix)\n",
    "import pandas as pd\n",
    "# from numpy import set_printoptions\n",
    "from sklearn.ensemble import ExtraTreesClassifier\n",
    "import warnings\n",
    "warnings.filterwarnings(\"ignore\")\n",
    "\n",
    "#load data\n",
    "filename='/home/diwakar/Downloads/IITK ML Data/indians-diabetes.data.csv'\n",
    "hnames=['preg','plas','pres','skin','test','mass','pedi','age','class']\n",
    "dataframe=pd.read_csv(filename,names=hnames)\n",
    "array = dataframe.values\n",
    "#seprate array into input and output components\n",
    "X= array[: ,0:8] #[row ,cols]\n",
    "Y= array[: ,8]\n",
    "#feture extraction\n",
    "model=ExtraTreesClassifier()\n",
    "model.fit(X,Y)\n",
    "scores=model.feature_importances_\n",
    "\n",
    "print(scores)\n",
    "result=list(zip(hnames,scores))\n",
    "print(\"\\n\\n\")\n",
    "print(result)\n"
   ]
  },
  {
   "cell_type": "code",
   "execution_count": null,
   "metadata": {},
   "outputs": [],
   "source": []
  }
 ],
 "metadata": {
  "kernelspec": {
   "display_name": "Python 3",
   "language": "python",
   "name": "python3"
  },
  "language_info": {
   "codemirror_mode": {
    "name": "ipython",
    "version": 3
   },
   "file_extension": ".py",
   "mimetype": "text/x-python",
   "name": "python",
   "nbconvert_exporter": "python",
   "pygments_lexer": "ipython3",
   "version": "3.7.4"
  }
 },
 "nbformat": 4,
 "nbformat_minor": 2
}
