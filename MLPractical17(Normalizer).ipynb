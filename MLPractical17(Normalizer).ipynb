{
 "cells": [
  {
   "cell_type": "code",
   "execution_count": 3,
   "metadata": {},
   "outputs": [
    {
     "name": "stdout",
     "output_type": "stream",
     "text": [
      "[[  6.   148.    72.   ...   0.63  50.     1.  ]\n",
      " [  1.    85.    66.   ...   0.35  31.     0.  ]\n",
      " [  8.   183.    64.   ...   0.67  32.     1.  ]\n",
      " ...\n",
      " [  5.   121.    72.   ...   0.24  30.     0.  ]\n",
      " [  1.   126.    60.   ...   0.35  47.     1.  ]\n",
      " [  1.    93.    70.   ...   0.32  23.     0.  ]]\n",
      "[[3.36e-02 8.28e-01 4.03e-01 1.96e-01 0.00e+00 1.88e-01 3.51e-03 2.80e-01]\n",
      " [8.42e-03 7.16e-01 5.56e-01 2.44e-01 0.00e+00 2.24e-01 2.96e-03 2.61e-01]\n",
      " [4.04e-02 9.24e-01 3.23e-01 0.00e+00 0.00e+00 1.18e-01 3.39e-03 1.62e-01]\n",
      " [6.61e-03 5.88e-01 4.36e-01 1.52e-01 6.22e-01 1.86e-01 1.10e-03 1.39e-01]\n",
      " [0.00e+00 5.96e-01 1.74e-01 1.52e-01 7.31e-01 1.88e-01 9.96e-03 1.44e-01]\n",
      " [3.49e-02 8.10e-01 5.17e-01 0.00e+00 0.00e+00 1.79e-01 1.40e-03 2.09e-01]\n",
      " [2.18e-02 5.66e-01 3.63e-01 2.32e-01 6.38e-01 2.25e-01 1.80e-03 1.89e-01]\n",
      " [8.06e-02 9.26e-01 0.00e+00 0.00e+00 0.00e+00 2.84e-01 1.08e-03 2.34e-01]\n",
      " [3.41e-03 3.36e-01 1.19e-01 7.67e-02 9.25e-01 5.20e-02 2.69e-04 9.03e-02]\n",
      " [4.80e-02 7.49e-01 5.76e-01 0.00e+00 0.00e+00 0.00e+00 1.39e-03 3.24e-01]\n",
      " [2.64e-02 7.27e-01 6.08e-01 0.00e+00 0.00e+00 2.49e-01 1.26e-03 1.98e-01]\n",
      " [5.24e-02 8.81e-01 3.88e-01 0.00e+00 0.00e+00 1.99e-01 2.81e-03 1.78e-01]\n",
      " [5.79e-02 8.05e-01 4.63e-01 0.00e+00 0.00e+00 1.57e-01 8.35e-03 3.30e-01]\n",
      " [1.15e-03 2.17e-01 6.88e-02 2.64e-02 9.70e-01 3.45e-02 4.57e-04 6.77e-02]\n",
      " [1.93e-02 6.41e-01 2.78e-01 7.34e-02 6.76e-01 9.97e-02 2.27e-03 1.97e-01]\n",
      " [6.40e-02 9.14e-01 0.00e+00 0.00e+00 0.00e+00 2.74e-01 4.42e-03 2.92e-01]\n",
      " [0.00e+00 4.19e-01 2.99e-01 1.67e-01 8.18e-01 1.63e-01 1.96e-03 1.10e-01]\n",
      " [5.10e-02 7.80e-01 5.40e-01 0.00e+00 0.00e+00 2.16e-01 1.85e-03 2.26e-01]\n",
      " [6.62e-03 6.82e-01 1.99e-01 2.52e-01 5.50e-01 2.87e-01 1.21e-03 2.19e-01]\n",
      " [5.73e-03 6.59e-01 4.01e-01 1.72e-01 5.50e-01 1.98e-01 3.03e-03 1.83e-01]\n",
      " [1.04e-02 4.38e-01 3.06e-01 1.42e-01 8.17e-01 1.37e-01 2.45e-03 9.38e-02]\n",
      " [5.56e-02 6.89e-01 5.84e-01 0.00e+00 0.00e+00 2.46e-01 2.70e-03 3.48e-01]\n",
      " [3.14e-02 8.78e-01 4.03e-01 0.00e+00 0.00e+00 1.78e-01 2.02e-03 1.84e-01]\n",
      " [5.86e-02 7.75e-01 5.21e-01 2.28e-01 0.00e+00 1.89e-01 1.71e-03 1.89e-01]\n",
      " [4.66e-02 6.06e-01 3.98e-01 1.40e-01 6.18e-01 1.55e-01 1.08e-03 2.16e-01]\n",
      " [5.19e-02 6.48e-01 3.63e-01 1.35e-01 5.96e-01 1.61e-01 1.06e-03 2.13e-01]\n",
      " [3.99e-02 8.37e-01 4.33e-01 0.00e+00 0.00e+00 2.24e-01 1.46e-03 2.45e-01]\n",
      " [5.37e-03 5.21e-01 3.55e-01 8.06e-02 7.52e-01 1.25e-01 2.62e-03 1.18e-01]\n",
      " [6.19e-02 6.90e-01 3.90e-01 9.05e-02 5.24e-01 1.06e-01 1.17e-03 2.71e-01]\n",
      " [3.18e-02 7.43e-01 5.84e-01 0.00e+00 0.00e+00 2.17e-01 2.14e-03 2.41e-01]]\n"
     ]
    }
   ],
   "source": [
    "#Normalize data\n",
    "from sklearn.preprocessing import Normalizer\n",
    "from pandas import read_csv\n",
    "from numpy import set_printoptions\n",
    "filename='/home/diwakar/Downloads/IITK ML Data/indians-diabetes.data.csv'\n",
    "hnames=['preg','plas','pres','skin','test','mass','pedi','age','class']\n",
    "dataframe=read_csv(filename,names=hnames)\n",
    "array = dataframe.values\n",
    "print(array)\n",
    "#seprate array into input and output components\n",
    "X= array[: ,0:8] #[row ,cols]\n",
    "Y= array[: ,8]\n",
    "scaler=Normalizer()\n",
    "normalizedX=scaler.fit_transform(X)\n",
    "#summarize transformed data\n",
    "set_printoptions(precision=2)\n",
    "print(normalizedX[0:30, :])"
   ]
  },
  {
   "cell_type": "code",
   "execution_count": null,
   "metadata": {},
   "outputs": [],
   "source": []
  }
 ],
 "metadata": {
  "kernelspec": {
   "display_name": "Python 3",
   "language": "python",
   "name": "python3"
  },
  "language_info": {
   "codemirror_mode": {
    "name": "ipython",
    "version": 3
   },
   "file_extension": ".py",
   "mimetype": "text/x-python",
   "name": "python",
   "nbconvert_exporter": "python",
   "pygments_lexer": "ipython3",
   "version": "3.7.4"
  }
 },
 "nbformat": 4,
 "nbformat_minor": 2
}
