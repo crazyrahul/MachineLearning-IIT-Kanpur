{
 "cells": [
  {
   "cell_type": "code",
   "execution_count": 3,
   "metadata": {},
   "outputs": [
    {
     "name": "stdout",
     "output_type": "stream",
     "text": [
      "   square_feet  price\n",
      "0          150   6450\n",
      "1          200   7450\n",
      "2          250   8450\n",
      "3          300   9450\n",
      "4          350  11450\n",
      "5          400  15450\n",
      "6          600  18450\n",
      "AREA :  [[150.0], [200.0], [250.0], [300.0], [350.0], [400.0], [600.0]]\n",
      "PRICE :  [6450.0, 7450.0, 8450.0, 9450.0, 11450.0, 15450.0, 18450.0]\n",
      "Output from Machine=  [21915.42553191]\n"
     ]
    },
    {
     "data": {
      "image/png": "[encoded data removed]",
      "text/plain": [
       "<Figure size 432x288 with 1 Axes>"
      ]
     },
     "metadata": {
      "needs_background": "light"
     },
     "output_type": "display_data"
    },
    {
     "name": "stdout",
     "output_type": "stream",
     "text": [
      "Intercept value  1771.8085106382969\n",
      "Coefficient  [28.77659574]\n",
      "Predicted House value :  [21915.42553191]\n"
     ]
    }
   ],
   "source": [
    "import matplotlib.pyplot as plt\n",
    "from sklearn.linear_model import LinearRegression\n",
    "import warnings\n",
    "warnings.filterwarnings(action='ignore')\n",
    "import pandas as pd\n",
    "#Function to get data\n",
    "def get_data(file_name):\n",
    "    dataframe=pd.read_csv(file_name)\n",
    "    print(dataframe)\n",
    "    x_parameters=[]\n",
    "    y_parameters=[]\n",
    "    for single_square_feet, single_price_value in zip(dataframe['square_feet'],dataframe['price']):\n",
    "        x_parameters.append([float(single_square_feet)])\n",
    "        y_parameters.append(float(single_price_value))\n",
    "    return x_parameters,y_parameters\n",
    "#Function for Fitting data to Linear model\n",
    "def linear_model_main(X_parameters,Y_parameters, quest_value):\n",
    "    #Create linear regression object\n",
    "    regr =LinearRegression()\n",
    "    print(\"AREA : \",X_parameters )\n",
    "    print(\"PRICE : \",Y_parameters )\n",
    "    regr.fit(X_parameters,Y_parameters)\n",
    "    predicted_ans = regr.predict([[quest_value]])\n",
    "    predictions ={}\n",
    "    predictions['coefficient']=regr.coef_\n",
    "    predictions['intercept']=regr.intercept_\n",
    "    predictions['predicted_ans']=predicted_ans\n",
    "    \n",
    "    print(\"Output from Machine= \",predicted_ans)\n",
    "    \n",
    "    plt.scatter(X_parameters,Y_parameters, color='m',marker='o',s=30)\n",
    "    all_predicted_Y =regr.predict(X_parameters)\n",
    "    plt.scatter(X_parameters,all_predicted_Y, color='b')\n",
    "    plt.plot(X_parameters,all_predicted_Y, color='r')\n",
    "    plt.scatter(quest_value,predicted_ans, color='g')\n",
    "    plt.show()\n",
    "    return predictions\n",
    "\n",
    "#predicting house price for house of 700 square feet area\n",
    "if __name__ =='__main__':\n",
    "    x,y=get_data('/home/diwakar/Downloads/IITK ML Data/LR_House_price.csv')\n",
    "    question_value=700 #This is the question\n",
    "    result = linear_model_main(x,y,question_value)\n",
    "    print(\"Intercept value \",result['intercept'])\n",
    "    print(\"Coefficient \",result['coefficient'])\n",
    "    print(\"Predicted House value : \",result['predicted_ans'])\n",
    "    "
   ]
  },
  {
   "cell_type": "code",
   "execution_count": null,
   "metadata": {},
   "outputs": [],
   "source": []
  }
 ],
 "metadata": {
  "kernelspec": {
   "display_name": "Python 3",
   "language": "python",
   "name": "python3"
  },
  "language_info": {
   "codemirror_mode": {
    "name": "ipython",
    "version": 3
   },
   "file_extension": ".py",
   "mimetype": "text/x-python",
   "name": "python",
   "nbconvert_exporter": "python",
   "pygments_lexer": "ipython3",
   "version": "3.7.4"
  }
 },
 "nbformat": 4,
 "nbformat_minor": 2
}
