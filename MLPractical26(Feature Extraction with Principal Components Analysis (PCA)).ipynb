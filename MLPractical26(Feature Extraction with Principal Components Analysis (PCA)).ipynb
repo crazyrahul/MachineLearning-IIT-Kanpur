{
 "cells": [
  {
   "cell_type": "code",
   "execution_count": 7,
   "metadata": {},
   "outputs": [
    {
     "name": "stdout",
     "output_type": "stream",
     "text": [
      "\n",
      "\n",
      "result \n",
      " [[-75.71465491 -35.95078264  -7.26078895]\n",
      " [-82.3582676   28.90821322  -5.49667139]\n",
      " [-74.63064344 -67.90649647  19.46180812]\n",
      " ...\n",
      " [ 32.11319827   3.3766648   -1.58786446]\n",
      " [-80.21449431 -14.18601977  12.3512639 ]\n",
      " [-81.30814972  21.62149606  -8.15276833]]\n",
      "Explained Varience :  [0.88854663 0.06159078 0.02579012]\n"
     ]
    }
   ],
   "source": [
    "#Feature Extraction with Principal Components Analysis (PCA)\n",
    "import pandas as pd\n",
    "# from numpy import set_printoptions\n",
    "from sklearn.decomposition import PCA\n",
    "import warnings\n",
    "warnings.filterwarnings(\"ignore\")\n",
    "\n",
    "#load data\n",
    "filename='/home/diwakar/Downloads/IITK ML Data/indians-diabetes.data.csv'\n",
    "hnames=['preg','plas','pres','skin','test','mass','pedi','age','class']\n",
    "dataframe=pd.read_csv(filename,names=hnames)\n",
    "array = dataframe.values\n",
    "#seprate array into input and output components\n",
    "X= array[: ,0:8] #[row ,cols]\n",
    "Y= array[: ,8]\n",
    "#feture extraction\n",
    "pca=PCA(n_components=3)\n",
    "fit=pca.fit(X)\n",
    "result=pca.transform(X)\n",
    "\n",
    "\n",
    "print(\"\\n\\nresult \\n\",result)\n",
    "#Summarize components\n",
    "\n",
    "print(\"Explained Varience : \",fit.explained_variance_ratio_)"
   ]
  },
  {
   "cell_type": "code",
   "execution_count": null,
   "metadata": {},
   "outputs": [],
   "source": []
  }
 ],
 "metadata": {
  "kernelspec": {
   "display_name": "Python 3",
   "language": "python",
   "name": "python3"
  },
  "language_info": {
   "codemirror_mode": {
    "name": "ipython",
    "version": 3
   },
   "file_extension": ".py",
   "mimetype": "text/x-python",
   "name": "python",
   "nbconvert_exporter": "python",
   "pygments_lexer": "ipython3",
   "version": "3.7.4"
  }
 },
 "nbformat": 4,
 "nbformat_minor": 2
}
