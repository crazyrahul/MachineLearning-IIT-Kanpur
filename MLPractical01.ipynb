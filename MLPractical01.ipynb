{
 "cells": [
  {
   "cell_type": "code",
   "execution_count": 4,
   "metadata": {},
   "outputs": [
    {
     "name": "stdout",
     "output_type": "stream",
     "text": [
      "Hello\n"
     ]
    }
   ],
   "source": [
    "print(\"Hello\")"
   ]
  },
  {
   "cell_type": "code",
   "execution_count": 6,
   "metadata": {},
   "outputs": [
    {
     "name": "stdout",
     "output_type": "stream",
     "text": [
      "numpy: 1.17.2\n",
      "matplotlib: 3.1.1\n",
      "pandas: 0.25.1\n",
      "sklearn: 0.21.3\n",
      "scipy: 1.3.1\n",
      "seaborn: 0.9.0\n",
      "All librarues for AI is wrking successfully........!\n"
     ]
    }
   ],
   "source": [
    "import numpy\n",
    "print(\"numpy:\", numpy.__version__)\n",
    "import matplotlib\n",
    "print(\"matplotlib:\", matplotlib.__version__)\n",
    "import pandas\n",
    "print(\"pandas:\", pandas.__version__)\n",
    "import sklearn\n",
    "print(\"sklearn:\", sklearn.__version__)\n",
    "import scipy\n",
    "print(\"scipy:\", scipy.__version__)\n",
    "import seaborn\n",
    "print(\"seaborn:\", seaborn.__version__)\n",
    "\n",
    "print(\"All librarues for AI is wrking successfully........!\")"
   ]
  },
  {
   "cell_type": "code",
   "execution_count": null,
   "metadata": {},
   "outputs": [],
   "source": []
  }
 ],
 "metadata": {
  "kernelspec": {
   "display_name": "Python 3",
   "language": "python",
   "name": "python3"
  },
  "language_info": {
   "codemirror_mode": {
    "name": "ipython",
    "version": 3
   },
   "file_extension": ".py",
   "mimetype": "text/x-python",
   "name": "python",
   "nbconvert_exporter": "python",
   "pygments_lexer": "ipython3",
   "version": "3.7.4"
  }
 },
 "nbformat": 4,
 "nbformat_minor": 2
}
