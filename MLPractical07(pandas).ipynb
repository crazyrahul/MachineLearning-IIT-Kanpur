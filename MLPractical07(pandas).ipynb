{
 "cells": [
  {
   "cell_type": "code",
   "execution_count": 1,
   "metadata": {},
   "outputs": [
    {
     "name": "stdout",
     "output_type": "stream",
     "text": [
      "   preg  plas  pres  skin  test  mass   pedi  age  class\n",
      "0     6   148    72    35     0  33.6  0.627   50      1\n",
      "1     1    85    66    29     0  26.6  0.351   31      0\n",
      "2     8   183    64     0     0  23.3  0.672   32      1\n",
      "3     1    89    66    23    94  28.1  0.167   21      0\n",
      "4     0   137    40    35   168  43.1  2.288   33      1\n",
      "5     5   116    74     0     0  25.6  0.201   30      0\n",
      "6     3    78    50    32    88  31.0  0.248   26      1\n",
      "7    10   115     0     0     0  35.3  0.134   29      0\n",
      "8     2   197    70    45   543  30.5  0.158   53      1\n",
      "9     8   125    96     0     0   0.0  0.232   54      1\n",
      "-*--*--*--*--*--*--*--*--*--*--*--*--*--*--*--*--*--*--*--*-\n",
      "dataframe.shape: (768, 9)\n",
      "preg       int64\n",
      "plas       int64\n",
      "pres       int64\n",
      "skin       int64\n",
      "test       int64\n",
      "mass     float64\n",
      "pedi     float64\n",
      "age        int64\n",
      "class      int64\n",
      "dtype: object\n",
      "-#--#--#--#--#--#--#--#--#--#--#--#--#--#--#--#--#--#--#--#-\n",
      "description=\n",
      "          preg    plas    pres    skin    test    mass    pedi     age   class\n",
      "count  768.00  768.00  768.00  768.00  768.00  768.00  768.00  768.00  768.00\n",
      "mean     3.85  120.89   69.11   20.54   79.80   31.99    0.47   33.24    0.35\n",
      "std      3.37   31.97   19.36   15.95  115.24    7.88    0.33   11.76    0.48\n",
      "min      0.00    0.00    0.00    0.00    0.00    0.00    0.08   21.00    0.00\n",
      "25%      1.00   99.00   62.00    0.00    0.00   27.30    0.24   24.00    0.00\n",
      "50%      3.00  117.00   72.00   23.00   30.50   32.00    0.37   29.00    0.00\n",
      "75%      6.00  140.25   80.00   32.00  127.25   36.60    0.63   41.00    1.00\n",
      "max     17.00  199.00  122.00   99.00  846.00   67.10    2.42   81.00    1.00\n",
      "-*--*--*--*--*--*--*--*--*--*--*--*--*--*--*--*--*--*--*--*-\n",
      "\n",
      "class\n",
      "0    500\n",
      "1    268\n",
      "dtype: int64\n",
      "-#--#--#--#--#--#--#--#--#--#--#--#--#--#--#--#--#--#--#--#-\n"
     ]
    }
   ],
   "source": [
    "import pandas\n",
    "filename= \"/home/diwakar/Downloads/IITK ML Data/indians-diabetes.data.csv\"\n",
    "hnames=['preg','plas','pres','skin','test','mass','pedi','age','class']\n",
    "dataframe = pandas.read_csv(filename, names=hnames)\n",
    "#peek at your Data\n",
    "#review the first 20 rows of your data using the head()\n",
    "#function on the pandas DataFrame.\n",
    "print(dataframe.head(10))\n",
    "print(\"-*-\"*20)\n",
    "#Dimensions of your data\n",
    "print(\"dataframe.shape:\",dataframe.shape)\n",
    "#Data Type For each attribute\n",
    "print(dataframe.dtypes)\n",
    "print(\"-#-\"*20)\n",
    "#Discriptiove Statics\n",
    "pandas.set_option('display.width',1000)\n",
    "pandas.set_option('precision',2)\n",
    "print(\"description=\\n\",dataframe.describe())\n",
    "\n",
    "print(\"-*-\"*20)\n",
    "#Class Discription (Classification Only)\n",
    "print()\n",
    "class_counts=dataframe.groupby('class').size()\n",
    "print(class_counts)\n",
    "print(\"-#-\"*20)\n"
   ]
  },
  {
   "cell_type": "code",
   "execution_count": null,
   "metadata": {},
   "outputs": [],
   "source": []
  }
 ],
 "metadata": {
  "kernelspec": {
   "display_name": "Python 3",
   "language": "python",
   "name": "python3"
  },
  "language_info": {
   "codemirror_mode": {
    "name": "ipython",
    "version": 3
   },
   "file_extension": ".py",
   "mimetype": "text/x-python",
   "name": "python",
   "nbconvert_exporter": "python",
   "pygments_lexer": "ipython3",
   "version": "3.7.4"
  }
 },
 "nbformat": 4,
 "nbformat_minor": 2
}
