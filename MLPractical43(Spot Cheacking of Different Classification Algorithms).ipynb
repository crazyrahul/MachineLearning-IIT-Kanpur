{
 "cells": [
  {
   "cell_type": "code",
   "execution_count": 1,
   "metadata": {},
   "outputs": [
    {
     "name": "stdout",
     "output_type": "stream",
     "text": [
      "Validation Score for Logistic Regression  = 76.951 %\n",
      "Validation Score for Linear Discriminant Analysis = 77.346 %\n",
      "Validation Score for KNeighborsClassifier = 72.656 %\n",
      "Validation Score for GaussianNB = 75.518 %\n",
      "Validation Score for DecisionTreeClassifier = 69.135 %\n",
      "Validation Score for SVM = 65.103 %\n"
     ]
    }
   ],
   "source": [
    "import pandas as pd\n",
    "from sklearn.model_selection import KFold\n",
    "from sklearn.model_selection import cross_val_score\n",
    "\n",
    "import warnings\n",
    "warnings.filterwarnings(\"ignore\")\n",
    "\n",
    "#load data\n",
    "filename='/home/diwakar/Downloads/IITK ML Data/indians-diabetes.data.csv'\n",
    "hnames=['preg','plas','pres','skin','test','mass','pedi','age','class']\n",
    "dataframe=pd.read_csv(filename,names=hnames)\n",
    "array = dataframe.values\n",
    "#seprate array into input and output components\n",
    "X= array[: ,0:8] #[row ,cols]\n",
    "Y= array[: ,8]\n",
    "\n",
    "\n",
    "num_folds = 10\n",
    "kfold=KFold(n_splits=num_folds)\n",
    "\n",
    "# 1)Spot checking for Logistic Regression\n",
    "from sklearn.linear_model import LogisticRegression\n",
    "model=LogisticRegression()\n",
    "results=cross_val_score(model,X,Y, cv=kfold)\n",
    "\n",
    "print(\"Validation Score for Logistic Regression  = %.3f %%\"%(results.mean()*100.0))\n",
    "\n",
    "# 2)Spot checking for LinearDiscriminantAnalysis(LDA)\n",
    "from sklearn.discriminant_analysis import LinearDiscriminantAnalysis\n",
    "model=LinearDiscriminantAnalysis()\n",
    "results=cross_val_score(model,X,Y, cv=kfold)\n",
    "\n",
    "print(\"Validation Score for Linear Discriminant Analysis = %.3f %%\"%(results.mean()*100.0))\n",
    "\n",
    "# 3)Spot checking for k-Nearest Neighbors(kNN)\n",
    "from sklearn.neighbors import KNeighborsClassifier\n",
    "model=KNeighborsClassifier()\n",
    "results=cross_val_score(model,X,Y, cv=kfold)\n",
    "\n",
    "print(\"Validation Score for KNeighborsClassifier = %.3f %%\"%(results.mean()*100.0))\n",
    "\n",
    "# 4)Spot checking for Gaussion Naive Baye\n",
    "from sklearn.naive_bayes import GaussianNB\n",
    "model=GaussianNB()\n",
    "results=cross_val_score(model,X,Y, cv=kfold)\n",
    "\n",
    "print(\"Validation Score for GaussianNB = %.3f %%\"%(results.mean()*100.0))\n",
    "\n",
    "# 5)Spot checking for Classification And Regression Trees(CART or Decision Trees)\n",
    "from sklearn.tree import DecisionTreeClassifier\n",
    "model=DecisionTreeClassifier()\n",
    "results=cross_val_score(model,X,Y, cv=kfold)\n",
    "\n",
    "print(\"Validation Score for DecisionTreeClassifier = %.3f %%\"%(results.mean()*100.0))\n",
    "\n",
    "# 6)Spot checking for Support Vector Machines (SVM)\n",
    "from sklearn.svm import SVC\n",
    "model=SVC()\n",
    "results=cross_val_score(model,X,Y, cv=kfold)\n",
    "\n",
    "print(\"Validation Score for SVM = %.3f %%\"%(results.mean()*100.0))\n"
   ]
  },
  {
   "cell_type": "code",
   "execution_count": null,
   "metadata": {},
   "outputs": [],
   "source": []
  }
 ],
 "metadata": {
  "kernelspec": {
   "display_name": "Python 3",
   "language": "python",
   "name": "python3"
  },
  "language_info": {
   "codemirror_mode": {
    "name": "ipython",
    "version": 3
   },
   "file_extension": ".py",
   "mimetype": "text/x-python",
   "name": "python",
   "nbconvert_exporter": "python",
   "pygments_lexer": "ipython3",
   "version": "3.7.4"
  }
 },
 "nbformat": 4,
 "nbformat_minor": 2
}
