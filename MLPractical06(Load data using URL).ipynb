{
 "cells": [
  {
   "cell_type": "code",
   "execution_count": 9,
   "metadata": {},
   "outputs": [
    {
     "name": "stdout",
     "output_type": "stream",
     "text": [
      "pandas Data: (150, 5)\n",
      "\n",
      "\n",
      "\n",
      "     sepal-length  sepal-width  petal-length  petal-width           class\n",
      "0             5.1          3.5           1.4          0.2     Iris-setosa\n",
      "1             4.9          3.0           1.4          0.2     Iris-setosa\n",
      "2             4.7          3.2           1.3          0.2     Iris-setosa\n",
      "3             4.6          3.1           1.5          0.2     Iris-setosa\n",
      "4             5.0          3.6           1.4          0.2     Iris-setosa\n",
      "..            ...          ...           ...          ...             ...\n",
      "145           6.7          3.0           5.2          2.3  Iris-virginica\n",
      "146           6.3          2.5           5.0          1.9  Iris-virginica\n",
      "147           6.5          3.0           5.2          2.0  Iris-virginica\n",
      "148           6.2          3.4           5.4          2.3  Iris-virginica\n",
      "149           5.9          3.0           5.1          1.8  Iris-virginica\n",
      "\n",
      "[150 rows x 5 columns]\n",
      "\n",
      "\n",
      "\n",
      "Index(['sepal-length', 'sepal-width', 'petal-length', 'petal-width', 'class'], dtype='object')\n",
      "\n",
      "\n",
      "\n",
      "       sepal-length  sepal-width  petal-length  petal-width\n",
      "count    150.000000   150.000000    150.000000   150.000000\n",
      "mean       5.843333     3.054000      3.758667     1.198667\n",
      "std        0.828066     0.433594      1.764420     0.763161\n",
      "min        4.300000     2.000000      1.000000     0.100000\n",
      "25%        5.100000     2.800000      1.600000     0.300000\n",
      "50%        5.800000     3.000000      4.350000     1.300000\n",
      "75%        6.400000     3.300000      5.100000     1.800000\n",
      "max        7.900000     4.400000      6.900000     2.500000\n",
      "\n",
      "\n",
      "\n",
      "sepal-length    float64\n",
      "sepal-width     float64\n",
      "petal-length    float64\n",
      "petal-width     float64\n",
      "class            object\n",
      "dtype: object\n",
      "\n",
      "\n",
      "\n",
      "        sepal-length  sepal-width  petal-length  petal-width        class\n",
      "count     150.000000   150.000000    150.000000   150.000000          150\n",
      "unique           NaN          NaN           NaN          NaN            3\n",
      "top              NaN          NaN           NaN          NaN  Iris-setosa\n",
      "freq             NaN          NaN           NaN          NaN           50\n",
      "mean        5.843333     3.054000      3.758667     1.198667          NaN\n",
      "std         0.828066     0.433594      1.764420     0.763161          NaN\n",
      "min         4.300000     2.000000      1.000000     0.100000          NaN\n",
      "25%         5.100000     2.800000      1.600000     0.300000          NaN\n",
      "50%         5.800000     3.000000      4.350000     1.300000          NaN\n",
      "75%         6.400000     3.300000      5.100000     1.800000          NaN\n",
      "max         7.900000     4.400000      6.900000     2.500000          NaN\n",
      "\n",
      "\n",
      "\n",
      "<class 'pandas.core.frame.DataFrame'>\n"
     ]
    }
   ],
   "source": [
    "import warnings\n",
    "import pandas\n",
    "import numpy\n",
    "import urllib.request\n",
    "web_path=urllib.request.urlopen('https://goo.gl/QnHW4g')\n",
    "hnames=['sepal-length','sepal-width','petal-length','petal-width','class']\n",
    "dataframe = pandas.read_csv(web_path, names=hnames)\n",
    "print(\"pandas Data:\",dataframe.shape)\n",
    "print(\"\\n\\n\")\n",
    "print(dataframe)\n",
    "print(\"\\n\\n\")\n",
    "print(dataframe.columns)\n",
    "print(\"\\n\\n\")\n",
    "print(dataframe.describe())\n",
    "print(\"\\n\\n\")\n",
    "print(dataframe.dtypes)\n",
    "print(\"\\n\\n\")\n",
    "print(dataframe.describe(include=\"all\"))\n",
    "print(\"\\n\\n\")\n",
    "print(type(dataframe))\n"
   ]
  },
  {
   "cell_type": "code",
   "execution_count": null,
   "metadata": {},
   "outputs": [],
   "source": []
  }
 ],
 "metadata": {
  "kernelspec": {
   "display_name": "Python 3",
   "language": "python",
   "name": "python3"
  },
  "language_info": {
   "codemirror_mode": {
    "name": "ipython",
    "version": 3
   },
   "file_extension": ".py",
   "mimetype": "text/x-python",
   "name": "python",
   "nbconvert_exporter": "python",
   "pygments_lexer": "ipython3",
   "version": "3.7.4"
  }
 },
 "nbformat": 4,
 "nbformat_minor": 2
}
